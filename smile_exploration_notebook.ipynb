{
 "cells": [
  {
   "cell_type": "code",
   "execution_count": 7,
   "metadata": {},
   "outputs": [],
   "source": [
    "import os\n",
    "import numpy as np\n",
    "import random\n",
    "import csv\n",
    "import warnings\n",
    "warnings.filterwarnings('ignore')\n",
    "\n",
    "from rdkit import Chem\n",
    "from rdkit.Chem import AllChem\n",
    "from rdkit import DataStructs\n",
    "\n",
    "from smiles_util import *"
   ]
  },
  {
   "cell_type": "code",
   "execution_count": 5,
   "metadata": {},
   "outputs": [],
   "source": [
    "path_data_smiles = '../ReLeaSE/data/chembl_22_clean_1576904_sorted_std_final.smi'"
   ]
  },
  {
   "cell_type": "code",
   "execution_count": 6,
   "metadata": {},
   "outputs": [],
   "source": [
    "# Read in the smiles\n",
    "smiles_list = read_smiles_file(path_data_smiles)"
   ]
  },
  {
   "cell_type": "code",
   "execution_count": 9,
   "metadata": {},
   "outputs": [],
   "source": [
    "# Make them canonical \n",
    "canonized_smile_list = canonize_smiles(smiles_list)"
   ]
  },
  {
   "cell_type": "code",
   "execution_count": 10,
   "metadata": {},
   "outputs": [],
   "source": [
    "# Find only unique SMILES\n",
    "canonized_smile_list = list(set(canonized_smile_list))"
   ]
  },
  {
   "cell_type": "code",
   "execution_count": 11,
   "metadata": {},
   "outputs": [],
   "source": [
    "# Tokenize SMILES to vectors\n",
    "smile_vec, tokens, token2idx, idx2token, smile_not_processed = conv_smile_to_vec(canonized_smile_list,max_len = 100)"
   ]
  },
  {
   "cell_type": "code",
   "execution_count": 12,
   "metadata": {},
   "outputs": [
    {
     "data": {
      "text/plain": [
       "0.9729592384672084"
      ]
     },
     "execution_count": 12,
     "metadata": {},
     "output_type": "execute_result"
    }
   ],
   "source": [
    "# Example SMILE list to check if cosine distance makes sense using tokenization\n",
    "smile_list2 = ['c1ccccc1','C(C)Cc1ccccc1','C1CCCCC1','C(C)CC1CCCCC1']\n",
    "smile_vec2, tokens2, token2idx2, idx2token2, smile_not_processed2 = conv_smile_to_vec(smile_list2,max_len = 100)\n",
    "# Check cosine similarity between differences between two molecules\n",
    "cosine_similarity(smile_vec2[0]-smile_vec2[1],smile_vec2[2]-smile_vec2[3])"
   ]
  },
  {
   "cell_type": "code",
   "execution_count": 19,
   "metadata": {},
   "outputs": [
    {
     "data": {
      "text/plain": [
       "0.3076923076923077"
      ]
     },
     "execution_count": 19,
     "metadata": {},
     "output_type": "execute_result"
    }
   ],
   "source": [
    "# We can also get molecule fingerprints\n",
    "fp = get_fingerprint(smile_list2)\n",
    "# Check cosine similarity between differences between two molecules using fingerprints\n",
    "# Not sure why this is results in a poor cosine distance, maybe I am not using fingerprints correctly! \n",
    "cosine_similarity(fp[0]-fp[1],fp[2]-fp[3])"
   ]
  },
  {
   "cell_type": "code",
   "execution_count": null,
   "metadata": {},
   "outputs": [],
   "source": []
  },
  {
   "cell_type": "code",
   "execution_count": null,
   "metadata": {},
   "outputs": [],
   "source": []
  }
 ],
 "metadata": {
  "kernelspec": {
   "display_name": "Python 3",
   "language": "python",
   "name": "python3"
  },
  "language_info": {
   "codemirror_mode": {
    "name": "ipython",
    "version": 3
   },
   "file_extension": ".py",
   "mimetype": "text/x-python",
   "name": "python",
   "nbconvert_exporter": "python",
   "pygments_lexer": "ipython3",
   "version": "3.6.5"
  }
 },
 "nbformat": 4,
 "nbformat_minor": 2
}
