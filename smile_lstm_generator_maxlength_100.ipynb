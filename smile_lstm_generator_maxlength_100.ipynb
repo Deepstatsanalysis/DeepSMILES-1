{
 "cells": [
  {
   "cell_type": "code",
   "execution_count": 1,
   "metadata": {},
   "outputs": [],
   "source": [
    "import os\n",
    "import numpy as np\n",
    "import random\n",
    "import csv\n",
    "import warnings\n",
    "warnings.filterwarnings('ignore')\n",
    "\n",
    "from rdkit import Chem\n",
    "from rdkit.Chem import AllChem\n",
    "from rdkit import DataStructs\n",
    "\n",
    "from smiles_util import *\n",
    "%load_ext autoreload\n",
    "%autoreload 2"
   ]
  },
  {
   "cell_type": "code",
   "execution_count": 2,
   "metadata": {},
   "outputs": [],
   "source": [
    "# SMILES data\n",
    "path_data_smiles = './data/chembl_22_canonized.smi' "
   ]
  },
  {
   "cell_type": "code",
   "execution_count": 3,
   "metadata": {},
   "outputs": [],
   "source": [
    "# Read in the smiles\n",
    "smiles_list = read_smiles_file(path_data_smiles)"
   ]
  },
  {
   "cell_type": "code",
   "execution_count": 4,
   "metadata": {},
   "outputs": [],
   "source": [
    "# Make them canonical \n",
    "#canonized_smile_list = canonize_smiles(smiles_list) # We have already preprocessed the similes \n",
    "canonized_smile_list = smiles_list"
   ]
  },
  {
   "cell_type": "code",
   "execution_count": 5,
   "metadata": {},
   "outputs": [],
   "source": [
    "# Find only unique SMILES\n",
    "canonized_smile_list = list(set(canonized_smile_list))\n",
    "canonized_smile_list = canonized_smile_list[1:]"
   ]
  },
  {
   "cell_type": "code",
   "execution_count": 6,
   "metadata": {},
   "outputs": [
    {
     "name": "stderr",
     "output_type": "stream",
     "text": [
      "Using TensorFlow backend.\n"
     ]
    }
   ],
   "source": [
    "from smileGenerator import smileGeneratorLSTM"
   ]
  },
  {
   "cell_type": "code",
   "execution_count": 9,
   "metadata": {
    "scrolled": true
   },
   "outputs": [
    {
     "name": "stdout",
     "output_type": "stream",
     "text": [
      "_________________________________________________________________\n",
      "Layer (type)                 Output Shape              Param #   \n",
      "=================================================================\n",
      "input_2 (InputLayer)         (None, 100)               0         \n",
      "_________________________________________________________________\n",
      "embedding_2 (Embedding)      (None, 100, 200)          9000      \n",
      "_________________________________________________________________\n",
      "dropout_2 (Dropout)          (None, 100, 200)          0         \n",
      "_________________________________________________________________\n",
      "bidirectional_3 (Bidirection (None, 100, 512)          935936    \n",
      "_________________________________________________________________\n",
      "attention (AttentionWeighted (None, 512)               512       \n",
      "_________________________________________________________________\n",
      "dense_2 (Dense)              (None, 45)                23085     \n",
      "=================================================================\n",
      "Total params: 968,533\n",
      "Trainable params: 968,533\n",
      "Non-trainable params: 0\n",
      "_________________________________________________________________\n"
     ]
    }
   ],
   "source": [
    "# Generator #weights_path = 'model_lstm_smile_weights_maxlen100.h5'\n",
    "gen = smileGeneratorLSTM(checkpoint_path = 'checkpoint_lstm_smile_maxlen100.h5') "
   ]
  },
  {
   "cell_type": "code",
   "execution_count": 49,
   "metadata": {
    "scrolled": true
   },
   "outputs": [
    {
     "name": "stdout",
     "output_type": "stream",
     "text": [
      "Train on 90000 samples, validate on 10000 samples\n",
      "Epoch 1/20\n",
      "90000/90000 [==============================] - 1180s 13ms/step - loss: 0.8633 - acc: 0.7050 - val_loss: 0.8535 - val_acc: 0.7101\n",
      "\n",
      "Epoch 00001: val_loss improved from inf to 0.85346, saving model to checkpoint_lstm_smile_maxlen100.h5\n",
      "Epoch 2/20\n",
      "90000/90000 [==============================] - 1166s 13ms/step - loss: 0.8402 - acc: 0.7131 - val_loss: 0.8543 - val_acc: 0.7091\n",
      "\n",
      "Epoch 00002: val_loss did not improve from 0.85346\n",
      "Epoch 3/20\n",
      "90000/90000 [==============================] - 1176s 13ms/step - loss: 0.8218 - acc: 0.7187 - val_loss: 0.8480 - val_acc: 0.7107\n",
      "\n",
      "Epoch 00003: val_loss improved from 0.85346 to 0.84796, saving model to checkpoint_lstm_smile_maxlen100.h5\n",
      "Epoch 4/20\n",
      "90000/90000 [==============================] - 1168s 13ms/step - loss: 0.8069 - acc: 0.7228 - val_loss: 0.8524 - val_acc: 0.7087\n",
      "\n",
      "Epoch 00004: val_loss did not improve from 0.84796\n",
      "Epoch 5/20\n",
      "90000/90000 [==============================] - 1165s 13ms/step - loss: 0.7945 - acc: 0.7277 - val_loss: 0.8454 - val_acc: 0.7114\n",
      "\n",
      "Epoch 00005: val_loss improved from 0.84796 to 0.84541, saving model to checkpoint_lstm_smile_maxlen100.h5\n",
      "Epoch 6/20\n",
      "90000/90000 [==============================] - 1175s 13ms/step - loss: 0.7834 - acc: 0.7313 - val_loss: 0.8475 - val_acc: 0.7083\n",
      "\n",
      "Epoch 00006: val_loss did not improve from 0.84541\n",
      "Epoch 7/20\n",
      "90000/90000 [==============================] - 1175s 13ms/step - loss: 0.7700 - acc: 0.7354 - val_loss: 0.8458 - val_acc: 0.7084\n",
      "\n",
      "Epoch 00007: val_loss did not improve from 0.84541\n",
      "Epoch 8/20\n",
      "90000/90000 [==============================] - 1172s 13ms/step - loss: 0.7594 - acc: 0.7377 - val_loss: 0.8481 - val_acc: 0.7068\n",
      "\n",
      "Epoch 00008: val_loss did not improve from 0.84541\n",
      "Epoch 9/20\n",
      "90000/90000 [==============================] - 1172s 13ms/step - loss: 0.7465 - acc: 0.7431 - val_loss: 0.8485 - val_acc: 0.7105\n",
      "\n",
      "Epoch 00009: val_loss did not improve from 0.84541\n",
      "Epoch 10/20\n",
      "90000/90000 [==============================] - 1177s 13ms/step - loss: 0.7379 - acc: 0.7450 - val_loss: 0.8591 - val_acc: 0.7077\n",
      "\n",
      "Epoch 00010: val_loss did not improve from 0.84541\n",
      "Epoch 11/20\n",
      "90000/90000 [==============================] - 1169s 13ms/step - loss: 0.7276 - acc: 0.7482 - val_loss: 0.8445 - val_acc: 0.7092\n",
      "\n",
      "Epoch 00011: val_loss improved from 0.84541 to 0.84454, saving model to checkpoint_lstm_smile_maxlen100.h5\n",
      "Epoch 12/20\n",
      "90000/90000 [==============================] - 1174s 13ms/step - loss: 0.7147 - acc: 0.7519 - val_loss: 0.8484 - val_acc: 0.7054\n",
      "\n",
      "Epoch 00012: val_loss did not improve from 0.84454\n",
      "Epoch 13/20\n",
      "90000/90000 [==============================] - 1174s 13ms/step - loss: 0.7062 - acc: 0.7568 - val_loss: 0.8495 - val_acc: 0.7103\n",
      "\n",
      "Epoch 00013: val_loss did not improve from 0.84454\n",
      "Epoch 14/20\n",
      "90000/90000 [==============================] - 1180s 13ms/step - loss: 0.6941 - acc: 0.7591 - val_loss: 0.8538 - val_acc: 0.7047\n",
      "\n",
      "Epoch 00014: val_loss did not improve from 0.84454\n",
      "Epoch 15/20\n",
      "90000/90000 [==============================] - 1173s 13ms/step - loss: 0.6830 - acc: 0.7637 - val_loss: 0.8518 - val_acc: 0.7123\n",
      "\n",
      "Epoch 00015: val_loss did not improve from 0.84454\n",
      "Epoch 16/20\n",
      "90000/90000 [==============================] - 1173s 13ms/step - loss: 0.6715 - acc: 0.7666 - val_loss: 0.8547 - val_acc: 0.7076\n",
      "\n",
      "Epoch 00016: val_loss did not improve from 0.84454\n",
      "Epoch 17/20\n",
      "90000/90000 [==============================] - 1170s 13ms/step - loss: 0.6633 - acc: 0.7706 - val_loss: 0.8608 - val_acc: 0.7076\n",
      "\n",
      "Epoch 00017: val_loss did not improve from 0.84454\n",
      "Epoch 18/20\n",
      "90000/90000 [==============================] - 1169s 13ms/step - loss: 0.6530 - acc: 0.7735 - val_loss: 0.8592 - val_acc: 0.7074\n",
      "\n",
      "Epoch 00018: val_loss did not improve from 0.84454\n",
      "Epoch 19/20\n",
      "90000/90000 [==============================] - 1168s 13ms/step - loss: 0.6427 - acc: 0.7772 - val_loss: 0.8657 - val_acc: 0.7072\n",
      "\n",
      "Epoch 00019: val_loss did not improve from 0.84454\n",
      "Epoch 20/20\n",
      "90000/90000 [==============================] - 1168s 13ms/step - loss: 0.6316 - acc: 0.7809 - val_loss: 0.8710 - val_acc: 0.7077\n",
      "\n",
      "Epoch 00020: val_loss did not improve from 0.84454\n"
     ]
    }
   ],
   "source": [
    "# Train Generator to learn SMILES\n",
    "gen.train(smiles_list, batch_size = 1280, epochs = 20, validation_split = 0.1)"
   ]
  },
  {
   "cell_type": "code",
   "execution_count": 81,
   "metadata": {},
   "outputs": [],
   "source": [
    "# Save model\n",
    "gen.save_model(weights_path = 'model_lstm_smile_weights_maxlen100.h5')"
   ]
  },
  {
   "cell_type": "code",
   "execution_count": 76,
   "metadata": {},
   "outputs": [],
   "source": [
    "# Load model\n",
    "# gen.load_model(weights_path = 'model_lstm_smile_weights.h5')\n",
    "from keras.models import load_model\n",
    "from AttentionWeightedAverage import AttentionWeightedAverage\n",
    "gen_best_model = load_model('checkpoint_lstm_smile_maxlen100.h5', \n",
    "                                 custom_objects = {'AttentionWeightedAverage':AttentionWeightedAverage})"
   ]
  },
  {
   "cell_type": "code",
   "execution_count": 77,
   "metadata": {},
   "outputs": [],
   "source": [
    "#gen_best_model.summary()"
   ]
  },
  {
   "cell_type": "code",
   "execution_count": 78,
   "metadata": {},
   "outputs": [
    {
     "name": "stdout",
     "output_type": "stream",
     "text": [
      "SMILES generated: 100, SMILES valid: 30\n"
     ]
    }
   ],
   "source": [
    "# Sample SMILES from generator\n",
    "cs = gen.generate_smiles_list(100)"
   ]
  },
  {
   "cell_type": "code",
   "execution_count": null,
   "metadata": {
    "scrolled": false
   },
   "outputs": [],
   "source": []
  },
  {
   "cell_type": "code",
   "execution_count": null,
   "metadata": {},
   "outputs": [],
   "source": []
  }
 ],
 "metadata": {
  "kernelspec": {
   "display_name": "Python 3",
   "language": "python",
   "name": "python3"
  },
  "language_info": {
   "codemirror_mode": {
    "name": "ipython",
    "version": 3
   },
   "file_extension": ".py",
   "mimetype": "text/x-python",
   "name": "python",
   "nbconvert_exporter": "python",
   "pygments_lexer": "ipython3",
   "version": "3.6.5"
  }
 },
 "nbformat": 4,
 "nbformat_minor": 2
}
